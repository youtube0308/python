{
  "nbformat": 4,
  "nbformat_minor": 0,
  "metadata": {
    "colab": {
      "name": "0_Python開發平台GoogleColab教學版(解答).ipynb",
      "provenance": [],
      "collapsed_sections": [],
      "include_colab_link": true
    },
    "kernelspec": {
      "name": "python3",
      "display_name": "Python 3"
    }
  },
  "cells": [
    {
      "cell_type": "markdown",
      "metadata": {
        "id": "view-in-github",
        "colab_type": "text"
      },
      "source": [
        "<a href=\"https://colab.research.google.com/github/youtube0308/python/blob/main/0_Python%E9%96%8B%E7%99%BC%E5%B9%B3%E5%8F%B0GoogleColab%E6%95%99%E5%AD%B8%E7%89%88(%E8%A7%A3%E7%AD%94).ipynb\" target=\"_parent\"><img src=\"https://colab.research.google.com/assets/colab-badge.svg\" alt=\"Open In Colab\"/></a>"
      ]
    },
    {
      "cell_type": "markdown",
      "metadata": {
        "id": "WqYvt3Hv1-IS"
      },
      "source": [
        "#鄒政展在崑山科技大學受恩師洗禮"
      ]
    },
    {
      "cell_type": "markdown",
      "metadata": {
        "id": "F9zaHvCiBL6Q"
      },
      "source": [
        "# 使用Google Colab學習Python與人工智慧\n",
        "```\n",
        "使用Google Colab平台學習Python程式設計\n",
        "使用Google Colab平台學習Python資料分析技術\n",
        "使用Google Colab平台學習機器學習(machine Learning)\n",
        "使用Google Colab平台學習深度學習(deep Learning)\n",
        "```\n",
        "# 課程內容\n",
        "```\n",
        "[1]Python開發環境:Google Colab\n",
        "Google Colab的Python開發環境暨使用技術\n",
        "[1]登入 註冊與使用\n",
        "[2]認識Colab環境\n",
        "\n",
        "[3]執行別人github上的XX.ipynb檔\n",
        "[4]儲存到你的GITHUB\n",
        "[5]下載程式(XX.py   XX.ipynb)到本地端\n",
        "\n",
        "[6]上傳程式到GOOGLE drive, 從Google drive 開啟xxx.ipynb\n",
        "\n",
        "[7]上傳檔案到colab\n",
        "[8]執行colab上的xxx.py程式\n",
        "\n",
        "[9]把整個別人分享的github  git clone到你的colab\n",
        "[10]載入你的google drive 到colab\n",
        "\n",
        "```\n",
        "\n",
        "# Google Colab\n",
        "```\n",
        "https://colab.research.google.com/\n",
        "```\n",
        "```\n",
        "Google Colab is a free cloud service and now it supports free GPU!\n",
        "\n",
        "You can;\n",
        "improve your Python programming language coding skills.\n",
        "develop deep learning applications using popular libraries such as Keras,\n",
        "TensorFlow, PyTorch, OpenAI gymand OpenCV.\n",
        "The most important feature that distinguishes Colab from other free cloud services is;\n",
        "Colab provides GPU and is totally free.\n",
        "```\n",
        "# 確認Google Colab上的套件使用版本\n",
        "```\n",
        "import pandas as pd\n",
        "print(\"pandas version: %s\" % pd.__version__)\n",
        "\n",
        "import matplotlib\n",
        "print(\"matplotlib version: %s\" % matplotlib.__version__)\n",
        "\n",
        "import numpy as np\n",
        "print(\"numpy version: %s\" % np.__version__)\n",
        "\n",
        "import sklearn\n",
        "print(\"scikit-learn version: %s\" % sklearn.__version__)\n",
        "\n",
        "import tensorflow as tf\n",
        "print(\"tensorflow version: %s\" % tf.__version__)\n",
        "\n",
        "import torch\n",
        "print(\"PyTorch version: %s\" %torch.__version__)\n",
        "print(\"2020年3月PyTorch version最新版本 是1.4 請參閱https://pytorch.org/\")\n",
        "```\n"
      ]
    },
    {
      "cell_type": "markdown",
      "metadata": {
        "id": "e8i2r0f-17d1"
      },
      "source": [
        ""
      ]
    },
    {
      "cell_type": "markdown",
      "metadata": {
        "id": "ilfIz-Li18up"
      },
      "source": [
        ""
      ]
    },
    {
      "cell_type": "code",
      "metadata": {
        "id": "c9Iy7E4t881_",
        "outputId": "f17a355d-a47e-4ab8-a4b2-11d1d851b958",
        "colab": {
          "base_uri": "https://localhost:8080/",
          "height": 136
        }
      },
      "source": [
        "import pandas as pd\n",
        "print(\"pandas version: %s\" % pd.__version__)\n",
        " \n",
        "import matplotlib\n",
        "print(\"matplotlib version: %s\" % matplotlib.__version__)\n",
        " \n",
        "import numpy as np\n",
        "print(\"numpy version: %s\" % np.__version__)\n",
        " \n",
        "import sklearn\n",
        "print(\"scikit-learn version: %s\" % sklearn.__version__)\n",
        " \n",
        "import tensorflow as tf\n",
        "print(\"tensorflow version: %s\" % tf.__version__)\n",
        " \n",
        "import torch\n",
        "print(\"PyTorch version: %s\" %torch.__version__)\n",
        "print(\"2020年3月PyTorch version最新版本 是1.4 請參閱https://pytorch.org/\")"
      ],
      "execution_count": 1,
      "outputs": [
        {
          "output_type": "stream",
          "text": [
            "pandas version: 1.1.2\n",
            "matplotlib version: 3.2.2\n",
            "numpy version: 1.18.5\n",
            "scikit-learn version: 0.22.2.post1\n",
            "tensorflow version: 2.3.0\n",
            "PyTorch version: 1.6.0+cu101\n",
            "2020年3月PyTorch version最新版本 是1.4 請參閱https://pytorch.org/\n"
          ],
          "name": "stdout"
        }
      ]
    }
  ]
}